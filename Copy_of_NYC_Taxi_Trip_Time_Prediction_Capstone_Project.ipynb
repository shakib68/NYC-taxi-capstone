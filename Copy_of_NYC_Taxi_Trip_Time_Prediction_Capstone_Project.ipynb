{
  "cells": [
    {
      "cell_type": "markdown",
      "metadata": {
        "id": "view-in-github",
        "colab_type": "text"
      },
      "source": [
        "<a href=\"https://colab.research.google.com/github/shakib68/NYC-taxi-capstone/blob/main/Copy_of_NYC_Taxi_Trip_Time_Prediction_Capstone_Project.ipynb\" target=\"_parent\"><img src=\"https://colab.research.google.com/assets/colab-badge.svg\" alt=\"Open In Colab\"/></a>"
      ]
    },
    {
      "cell_type": "markdown",
      "metadata": {
        "id": "tOGC-qoyhJeX"
      },
      "source": [
        "# <b><u> Project Title : Taxi trip time Prediction : Predicting total ride duration of taxi trips in New York City</u></b>"
      ]
    },
    {
      "cell_type": "markdown",
      "metadata": {
        "id": "Y06xIdG26kRF"
      },
      "source": [
        "## <b> Problem Description </b>\n",
        "\n",
        "### Your task is to build a model that predicts the total ride duration of taxi trips in New York City. Your primary dataset is one released by the NYC Taxi and Limousine Commission, which includes pickup time, geo-coordinates, number of passengers, and several other variables."
      ]
    },
    {
      "cell_type": "markdown",
      "metadata": {
        "id": "WWeU1f9bwqQq"
      },
      "source": [
        "## <b> Data Description </b>\n",
        "\n",
        "### The dataset is based on the 2016 NYC Yellow Cab trip record data made available in Big Query on Google Cloud Platform. The data was originally published by the NYC Taxi and Limousine Commission (TLC). The data was sampled and cleaned for the purposes of this project. Based on individual trip attributes, you should predict the duration of each trip in the test set.\n",
        "\n",
        "### <b>NYC Taxi Data.csv</b> - the training set (contains 1458644 trip records)\n",
        "\n",
        "\n",
        "### Data fields\n",
        "* #### id - a unique identifier for each trip\n",
        "* #### vendor_id - a code indicating the provider associated with the trip record\n",
        "* #### pickup_datetime - date and time when the meter was engaged\n",
        "* #### dropoff_datetime - date and time when the meter was disengaged\n",
        "* #### passenger_count - the number of passengers in the vehicle (driver entered value)\n",
        "* #### pickup_longitude - the longitude where the meter was engaged\n",
        "* #### pickup_latitude - the latitude where the meter was engaged\n",
        "* #### dropoff_longitude - the longitude where the meter was disengaged\n",
        "* #### dropoff_latitude - the latitude where the meter was disengaged\n",
        "* #### store_and_fwd_flag - This flag indicates whether the trip record was held in vehicle memory before sending to the vendor because the vehicle did not have a connection to the server - Y=store and forward; N=not a store and forward trip\n",
        "* #### trip_duration - duration of the trip in seconds"
      ]
    },
    {
      "cell_type": "markdown",
      "source": [
        "**Independent Variables**\n",
        "\n",
        "id — a unique identifier for each trip\n",
        "\n",
        "vendor_id — a code indicating the provider associated with the trip record\n",
        "\n",
        "pickup_datetime — date and time when the meter was engaged\n",
        "\n",
        "dropoff_datetime — date and time when the meter was disengaged\n",
        "\n",
        "passenger_count — the number of passengers in the vehicle (driver entered value)\n",
        "\n",
        "pickup_longitude — the longitude where the meter was engaged\n",
        "\n",
        "pickup_latitude — the latitude where the meter was engaged\n",
        "\n",
        "dropoff_longitude — the longitude where the meter was disengaged\n",
        "\n",
        "dropoff_latitude — the latitude where the meter was disengaged distance:distance covered speed ; speed calculated\n",
        "\n",
        "store_and_fwd_flag — This flag indicates whether the trip record was held in vehicle memory before sending to the vendor because the vehicle did not have a connection to the server — Y=store and forward; N=not a store and forward trip."
      ],
      "metadata": {
        "id": "iCFNAF2yMrbf"
      }
    },
    {
      "cell_type": "markdown",
      "source": [
        "**trip_duration** = dependent variable"
      ],
      "metadata": {
        "id": "qRY9m-0BMvkB"
      }
    },
    {
      "cell_type": "markdown",
      "metadata": {
        "id": "Gek83QFBkUX-"
      },
      "source": [
        "**Importing  libraries**"
      ]
    },
    {
      "cell_type": "code",
      "execution_count": null,
      "metadata": {
        "id": "dByMsuzT8Tnw"
      },
      "outputs": [],
      "source": [
        "import numpy as np\n",
        "import pandas as pd\n",
        "import seaborn as sns\n",
        "import matplotlib.pyplot as plt\n",
        "import datetime as dt\n",
        "from sklearn.linear_model import LinearRegression\n",
        "from sklearn.ensemble import RandomForestRegressor\n",
        "from xgboost import XGBRegressor\n",
        "from sklearn import metrics\n",
        "from sklearn.model_selection import train_test_split, GridSearchCV\n",
        "\n",
        "import statsmodels.formula.api as sm\n",
        "from sklearn.model_selection import learning_curve\n",
        "from sklearn.model_selection import ShuffleSplit\n",
        "import warnings; warnings.simplefilter('ignore')"
      ]
    },
    {
      "cell_type": "code",
      "execution_count": null,
      "metadata": {
        "id": "eFrJ9krGlYk4"
      },
      "outputs": [],
      "source": [
        "from google.colab import drive\n",
        "drive.mount('/content/drive')"
      ]
    },
    {
      "cell_type": "markdown",
      "metadata": {
        "id": "X7WclwM5nntm"
      },
      "source": [
        "**Loading data**"
      ]
    },
    {
      "cell_type": "code",
      "execution_count": null,
      "metadata": {
        "id": "_7pTP8AFlDhp"
      },
      "outputs": [],
      "source": [
        "df=pd.read_csv(\"/content/drive/MyDrive/AlmaBetter/capstone project 2/Copy of NYC Taxi Data.csv\")\n"
      ]
    },
    {
      "cell_type": "code",
      "execution_count": null,
      "metadata": {
        "id": "xNVsh08Unl0K"
      },
      "outputs": [],
      "source": [
        "df.head()"
      ]
    },
    {
      "cell_type": "code",
      "execution_count": null,
      "metadata": {
        "id": "dbj9alY_ntZT"
      },
      "outputs": [],
      "source": [
        "df.tail()"
      ]
    },
    {
      "cell_type": "markdown",
      "metadata": {
        "id": "AIjhhQUWn-yf"
      },
      "source": [
        "**Checking Datatype in our Dataset**"
      ]
    },
    {
      "cell_type": "code",
      "execution_count": null,
      "metadata": {
        "id": "1C0X85WpnzQz"
      },
      "outputs": [],
      "source": [
        "df.dtypes"
      ]
    },
    {
      "cell_type": "code",
      "source": [
        "df.describe()"
      ],
      "metadata": {
        "id": "Ea4P4CKhKFPc"
      },
      "execution_count": null,
      "outputs": []
    },
    {
      "cell_type": "code",
      "source": [
        "df.shape"
      ],
      "metadata": {
        "id": "7yFQfYmGgKtH"
      },
      "execution_count": null,
      "outputs": []
    },
    {
      "cell_type": "markdown",
      "metadata": {
        "id": "-OcyrpMmK1Df"
      },
      "source": [
        "**Checking missing value**"
      ]
    },
    {
      "cell_type": "code",
      "execution_count": null,
      "metadata": {
        "id": "3SfB0Z47KiWF"
      },
      "outputs": [],
      "source": [
        "# Missing Value Count Function\n",
        "def show_missing():\n",
        "    missing = df.columns[df.isnull().any()].tolist()\n",
        "    return missing\n",
        "\n",
        "# Missing data counts and percentage\n",
        "print('Missing Data Count')\n",
        "print(df[show_missing()].isnull().sum().sort_values(ascending = False))\n",
        "print('--'*50)\n",
        "print('Missing Data Percentage')\n",
        "print(round(df[show_missing()].isnull().sum().sort_values(ascending = False)/len(df)*100,2))"
      ]
    },
    {
      "cell_type": "markdown",
      "metadata": {
        "id": "zWXwuTmQK_7A"
      },
      "source": [
        "**Here you can see there is no missing value in our dataset, So will proceed for solution and analysis**"
      ]
    },
    {
      "cell_type": "markdown",
      "metadata": {
        "id": "FLa9_CBQoNFs"
      },
      "source": [
        "**Importing geopy library to calculate distance**\n"
      ]
    },
    {
      "cell_type": "code",
      "execution_count": null,
      "metadata": {
        "id": "k3YQQvTfn7Y8"
      },
      "outputs": [],
      "source": [
        "from geopy.distance import great_circle"
      ]
    },
    {
      "cell_type": "markdown",
      "metadata": {
        "id": "_tnlsYrxoxzt"
      },
      "source": [
        "**Calculte distance betwee pickup and dropoff points**"
      ]
    },
    {
      "cell_type": "code",
      "execution_count": null,
      "metadata": {
        "id": "StKFcbpZohEU"
      },
      "outputs": [],
      "source": [
        "#Calculte distance betwee pickup and dropoff points\n",
        "def distance_cal(pickup_lat,pickup_long,dropoff_lat,dropoff_long):\n",
        " \n",
        " start_coordinates=(pickup_lat,pickup_long)\n",
        " stop_coordinates=(dropoff_lat,dropoff_long)\n",
        " \n",
        " return great_circle(start_coordinates,stop_coordinates).km"
      ]
    },
    {
      "cell_type": "code",
      "execution_count": null,
      "metadata": {
        "id": "-GMDaA7wo0b7"
      },
      "outputs": [],
      "source": [
        "# Calculating distance for each trip\n",
        "df['distance'] = df.apply(lambda df: distance_cal(df['pickup_latitude'],df['pickup_longitude'],df['dropoff_latitude'],df['dropoff_longitude'] ), axis=1)\n"
      ]
    },
    {
      "cell_type": "code",
      "execution_count": null,
      "metadata": {
        "id": "PQ5OeMBfpE8R"
      },
      "outputs": [],
      "source": [
        "df['distance']"
      ]
    },
    {
      "cell_type": "markdown",
      "metadata": {
        "id": "IDKilNklr1xj"
      },
      "source": [
        "**converting it to datetime**"
      ]
    },
    {
      "cell_type": "code",
      "execution_count": null,
      "metadata": {
        "id": "9GepnYqGp4sm"
      },
      "outputs": [],
      "source": [
        "#convert it to datetime\n",
        "df['pickup_datetime']=pd.to_datetime(df['pickup_datetime'])\n",
        "df['dropoff_datetime']=pd.to_datetime(df['dropoff_datetime'])"
      ]
    },
    {
      "cell_type": "code",
      "execution_count": null,
      "metadata": {
        "id": "OAs3rDeProOv"
      },
      "outputs": [],
      "source": [
        "\n",
        "df['pickup_day_no']=df['pickup_datetime'].dt.weekday\n",
        "df['dropoff_day_no']=df['dropoff_datetime'].dt.weekday\n",
        "df['pickup_hour']=df['pickup_datetime'].dt.hour\n",
        "df['dropoff_hour']=df['dropoff_datetime'].dt.hour\n",
        "df['pickup_month']=df['pickup_datetime'].dt.month\n",
        "df['dropoff_month']=df['dropoff_datetime'].dt.month"
      ]
    },
    {
      "cell_type": "code",
      "source": [
        "df.shape"
      ],
      "metadata": {
        "id": "I9N_aGMXh1pL"
      },
      "execution_count": null,
      "outputs": []
    },
    {
      "cell_type": "markdown",
      "metadata": {
        "id": "RKMAnt8SQj3Y"
      },
      "source": [
        "**Checking for outlier in column trip duration**"
      ]
    },
    {
      "cell_type": "code",
      "execution_count": null,
      "metadata": {
        "id": "emmP7pw3Q9a4"
      },
      "outputs": [],
      "source": [
        "# the skewed box plot shows us the presence of outliers \n",
        "sns.boxplot(y=df['trip_duration'])\n",
        "plt.show()\n",
        "columns=['trip_duration']\n",
        "n = 1\n",
        "plt.figure(figsize=(20,15))\n",
        "\n",
        "for column in columns:\n",
        "  plt.subplot(4,4,n)\n",
        "  n = n+1\n",
        "  sns.boxplot(df[column])\n",
        "  plt.tight_layout()"
      ]
    },
    {
      "cell_type": "markdown",
      "metadata": {
        "id": "NuSaB1gCRq7p"
      },
      "source": [
        "**You can see that there are some outliers in dataset so we will try to fin 0-100 percentile value  to find a the correct percentile value for removal of outliers**"
      ]
    },
    {
      "cell_type": "code",
      "execution_count": null,
      "metadata": {
        "id": "3pNhX_jURV-g"
      },
      "outputs": [],
      "source": [
        "#calculating 0-100th percentile to find a the correct percentile value for removal of outliers\n",
        "for i in range(0,100,10):\n",
        "    var =df[\"trip_duration\"].values\n",
        "    var = np.sort(var,axis = None)\n",
        "    print(\"{} percentile value is {}\".format(i,var[int(len(var)*(float(i)/100))]))\n",
        "print (\"100 percentile value is \",var[-1])\n"
      ]
    },
    {
      "cell_type": "markdown",
      "metadata": {
        "id": "M1PXzh8ASmsa"
      },
      "source": [
        "**We can see that the value of outlier is in the range from 90 to 100 percentile but we do not  know exactly so we do some more step from 90-100**"
      ]
    },
    {
      "cell_type": "code",
      "execution_count": null,
      "metadata": {
        "id": "D1WZ8B5xS82I"
      },
      "outputs": [],
      "source": [
        "#calculating 90-100th percentile to find a the correct percentile value for removal of outliers\n",
        "for i in range(90,100):\n",
        "    var =df[\"trip_duration\"].values\n",
        "    var = np.sort(var,axis = None)\n",
        "    print(\"{} percentile value is {}\".format(i,var[int(len(var)*(float(i)/100))]))\n",
        "print (\"100 percentile value is \",var[-1])"
      ]
    },
    {
      "cell_type": "code",
      "execution_count": null,
      "metadata": {
        "id": "mOnO-BHsTbmB"
      },
      "outputs": [],
      "source": [
        "#calculating 99-100th percentile to find a the correct percentile value for removal of outliers\n",
        "for i in np.linspace(99.0,100.0,10 ,endpoint=False):\n",
        "    var =df[\"trip_duration\"].values\n",
        "    var = np.sort(var,axis = None)\n",
        "    print(\"{} percentile value is {}\".format(i,var[int(len(var)*(float(i)/100))]))\n",
        "print (\"100 percentile value is \",var[-1])\n"
      ]
    },
    {
      "cell_type": "markdown",
      "metadata": {
        "id": "-f_5rFsrTqga"
      },
      "source": [
        "**From here we can set the value for trip duration less than 18000 ,otherwise all the values>18000 will be treated as outlier becouse more than 5 hour of taxi trip is not feasible**"
      ]
    },
    {
      "cell_type": "code",
      "execution_count": null,
      "metadata": {
        "id": "iXaZNpjiT9Ap"
      },
      "outputs": [],
      "source": [
        "df.trip_duration.groupby(pd.cut(df.trip_duration, np.arange(1,max(df.trip_duration),3600))).count()"
      ]
    },
    {
      "cell_type": "code",
      "source": [
        "df = df[df.trip_duration <= 18000]"
      ],
      "metadata": {
        "id": "AKOIQaHwhW-F"
      },
      "execution_count": null,
      "outputs": []
    },
    {
      "cell_type": "markdown",
      "source": [
        "**Oulier in distance column**"
      ],
      "metadata": {
        "id": "yWbFd4_39_-_"
      }
    },
    {
      "cell_type": "code",
      "source": [
        "\n",
        "sns.boxplot(y=df['distance'])\n",
        "plt.show()"
      ],
      "metadata": {
        "id": "8FlYL81r-FpH"
      },
      "execution_count": null,
      "outputs": []
    },
    {
      "cell_type": "markdown",
      "source": [
        "**we can see that there are some outlier**"
      ],
      "metadata": {
        "id": "lf8kxI0G-ToH"
      }
    },
    {
      "cell_type": "code",
      "source": [
        "#calculating 0-100th percentile to find a the correct percentile value for removal of outliers\n",
        "for i in range(0,100,10):\n",
        "    var =df[\"distance\"].values\n",
        "    var = np.sort(var,axis = None)\n",
        "    print(\"{} percentile value is {}\".format(i,var[int(len(var)*(float(i)/100))]))\n",
        "print (\"100 percentile value is \",var[-1])"
      ],
      "metadata": {
        "id": "-Z_83HSi-ZgT"
      },
      "execution_count": null,
      "outputs": []
    },
    {
      "cell_type": "markdown",
      "source": [
        "**Will try to find 90-100 percentile value to get clear value**"
      ],
      "metadata": {
        "id": "B7Z0njC_-jTB"
      }
    },
    {
      "cell_type": "code",
      "source": [
        "#calculating 90-100th percentile to find a the correct percentile value for removal of outliers\n",
        "for i in range(90,100):\n",
        "    var =df[\"distance\"].values\n",
        "    var = np.sort(var,axis = None)\n",
        "    print(\"{} percentile value is {}\".format(i,var[int(len(var)*(float(i)/100))]))\n",
        "print (\"100 percentile value is \",var[-1])"
      ],
      "metadata": {
        "id": "4ObMqSNX-r74"
      },
      "execution_count": null,
      "outputs": []
    },
    {
      "cell_type": "markdown",
      "source": [
        "**have to see the percentile from 99-100 to get more clear picture**"
      ],
      "metadata": {
        "id": "HB56zRcx_NFF"
      }
    },
    {
      "cell_type": "code",
      "source": [
        "#calculating 99-100th percentile to find a the correct percentile value for removal of outliers\n",
        "for i in np.linspace(99.0,100.0,10 ,endpoint=False):\n",
        "    var =df[\"distance\"].values\n",
        "    var = np.sort(var,axis = None)\n",
        "    print(\"{} percentile value is {}\".format(i,var[int(len(var)*(float(i)/100))]))\n",
        "print (\"100 percentile value is \",var[-1])"
      ],
      "metadata": {
        "id": "Ek-8peD2_Wun"
      },
      "execution_count": null,
      "outputs": []
    },
    {
      "cell_type": "code",
      "source": [
        "df['distance'].value_counts()\n"
      ],
      "metadata": {
        "id": "sEybU9RgAVmc"
      },
      "execution_count": null,
      "outputs": []
    },
    {
      "cell_type": "markdown",
      "source": [
        "**We can take value as 30 becouse 99.9 percentile value are less than it**"
      ],
      "metadata": {
        "id": "15ZfE2yS_jf6"
      }
    },
    {
      "cell_type": "code",
      "source": [
        "df=df[df['distance']<30]"
      ],
      "metadata": {
        "id": "Z5Us9ftz_vFG"
      },
      "execution_count": null,
      "outputs": []
    },
    {
      "cell_type": "markdown",
      "source": [
        "**We will only keep those observation whose distance is greater than 0 ,as equal to zero will be a false entry**"
      ],
      "metadata": {
        "id": "Ky-i-4hPAnS8"
      }
    },
    {
      "cell_type": "code",
      "source": [
        "df=df[df['distance']!=0]\n"
      ],
      "metadata": {
        "id": "xK9dCk8zAlip"
      },
      "execution_count": null,
      "outputs": []
    },
    {
      "cell_type": "code",
      "source": [
        "df['distance'].value_counts()\n"
      ],
      "metadata": {
        "id": "c9UI-HkJEFf3"
      },
      "execution_count": null,
      "outputs": []
    },
    {
      "cell_type": "markdown",
      "source": [
        "**Passenger column outlier treatment**"
      ],
      "metadata": {
        "id": "TdLlWITMD2DK"
      }
    },
    {
      "cell_type": "code",
      "source": [
        "df.passenger_count.value_counts()\n"
      ],
      "metadata": {
        "id": "XqOPorQ0A9O3"
      },
      "execution_count": null,
      "outputs": []
    },
    {
      "cell_type": "code",
      "source": [
        "plt.figure(figsize = (20,5))\n",
        "sns.boxplot(df.passenger_count)\n",
        "plt.show()"
      ],
      "metadata": {
        "id": "71MMCZyDdjAY"
      },
      "execution_count": null,
      "outputs": []
    },
    {
      "cell_type": "markdown",
      "source": [
        "**we can see that there are some outlier**\n",
        "\n",
        "There are some trips with 0 passenger count.\n",
        "\n",
        "Few trips consisted of even 7, 8 or 9 passengers. Clear outliers and pointers to data inconsistency\n",
        "\n",
        "Most of trip consist of passenger either 1 or 2\n",
        "\n",
        "So we would replace the 0 passenger count with 1."
      ],
      "metadata": {
        "id": "At3WJoORdpT8"
      }
    },
    {
      "cell_type": "code",
      "source": [
        "df['passenger_count'] = df.passenger_count.map(lambda x: 1 if x == 0 else x)\n"
      ],
      "metadata": {
        "id": "wFtOApzbdwBz"
      },
      "execution_count": null,
      "outputs": []
    },
    {
      "cell_type": "markdown",
      "source": [
        "**Also, we will remove the records with passenger count > 7, 8 or 9 as they are extreme values and looks very odd to be ocupied in a taxi.**"
      ],
      "metadata": {
        "id": "khSznld0ewvf"
      }
    },
    {
      "cell_type": "code",
      "source": [
        "df = df[df.passenger_count <= 6]"
      ],
      "metadata": {
        "id": "D4sv_qgye0Wh"
      },
      "execution_count": null,
      "outputs": []
    },
    {
      "cell_type": "code",
      "source": [
        "sns.countplot(x='passenger_count',data=df)\n",
        "\n",
        "\n",
        "\n"
      ],
      "metadata": {
        "id": "mYSg3jwpDiPl"
      },
      "execution_count": null,
      "outputs": []
    },
    {
      "cell_type": "markdown",
      "source": [
        "**Outlier in speed column**"
      ],
      "metadata": {
        "id": "Lk0Ton_viuPf"
      }
    },
    {
      "cell_type": "markdown",
      "metadata": {
        "id": "RC-_w_l5sn_Q"
      },
      "source": [
        "#EDA"
      ]
    },
    {
      "cell_type": "code",
      "source": [
        "df.trip_duration.groupby(pd.cut(df.trip_duration, np.arange(1,7200,600))).count().plot(kind='barh')\n",
        "plt.xlabel('Trip Counts')\n",
        "plt.ylabel('Trip Duration (seconds)')\n",
        "plt.show()\n"
      ],
      "metadata": {
        "id": "_4zY_znPj2rQ",
        "outputId": "a761bf8a-55fa-4c35-c7ba-0f1670999a16",
        "colab": {
          "base_uri": "https://localhost:8080/",
          "height": 279
        }
      },
      "execution_count": 37,
      "outputs": [
        {
          "output_type": "display_data",
          "data": {
            "text/plain": [
              "<Figure size 432x288 with 1 Axes>"
            ],
            "image/png": "[encoded data removed]"
          },
          "metadata": {
            "needs_background": "light"
          }
        }
      ]
    },
    {
      "cell_type": "markdown",
      "source": [
        "**hourly Analysis**"
      ],
      "metadata": {
        "id": "P-5cEXvs7Z9H"
      }
    },
    {
      "cell_type": "code",
      "execution_count": 38,
      "metadata": {
        "id": "C3xWivYXsNs9",
        "colab": {
          "base_uri": "https://localhost:8080/",
          "height": 532
        },
        "outputId": "7a1443e0-4cdf-4870-85d0-fc5aa170d4bd"
      },
      "outputs": [
        {
          "output_type": "execute_result",
          "data": {
            "text/plain": [
              "<matplotlib.axes._subplots.AxesSubplot at 0x7f792255d590>"
            ]
          },
          "metadata": {},
          "execution_count": 38
        },
        {
          "output_type": "display_data",
          "data": {
            "text/plain": [
              "<Figure size 1296x576 with 2 Axes>"
            ],
            "image/png": "[encoded data removed]"
          },
          "metadata": {
            "needs_background": "light"
          }
        }
      ],
      "source": [
        "fig, axs = plt.subplots(1,2, figsize=(18, 8))\n",
        "axs[0].set_title('Pickup Days')\n",
        "\n",
        "\n",
        "sns.countplot(x=df['pickup_hour'],ax=axs[0])\n",
        "\n",
        "axs[1].set_title('Dropoff Days')\n",
        "sns.countplot(x=df['dropoff_hour'],ax=axs[1])"
      ]
    },
    {
      "cell_type": "markdown",
      "source": [
        "**Monthly Analysis**"
      ],
      "metadata": {
        "id": "0CWbdp7U7ukD"
      }
    },
    {
      "cell_type": "code",
      "source": [
        "sns.countplot(df['dropoff_month'])\n"
      ],
      "metadata": {
        "colab": {
          "base_uri": "https://localhost:8080/",
          "height": 298
        },
        "id": "QfD0o_sn7V-E",
        "outputId": "323e1dba-57e0-40e0-d1f9-6d6ba2d27df4"
      },
      "execution_count": 39,
      "outputs": [
        {
          "output_type": "execute_result",
          "data": {
            "text/plain": [
              "<matplotlib.axes._subplots.AxesSubplot at 0x7f79232a1c90>"
            ]
          },
          "metadata": {},
          "execution_count": 39
        },
        {
          "output_type": "display_data",
          "data": {
            "text/plain": [
              "<Figure size 432x288 with 1 Axes>"
            ],
            "image/png": "[encoded data removed]"
          },
          "metadata": {
            "needs_background": "light"
          }
        }
      ]
    },
    {
      "cell_type": "markdown",
      "source": [
        "**Setting a time cycle of a day **"
      ],
      "metadata": {
        "id": "fOKAgdIu8y1T"
      }
    },
    {
      "cell_type": "markdown",
      "source": [
        "**Based on vendor id**"
      ],
      "metadata": {
        "id": "QpT0vRWo9wxy"
      }
    },
    {
      "cell_type": "code",
      "source": [
        "sns.countplot(x='vendor_id',data=df)\n"
      ],
      "metadata": {
        "colab": {
          "base_uri": "https://localhost:8080/",
          "height": 299
        },
        "id": "dtPKxliS9IVY",
        "outputId": "886124aa-6e4b-428a-ed72-1b8de9dba804"
      },
      "execution_count": 40,
      "outputs": [
        {
          "output_type": "execute_result",
          "data": {
            "text/plain": [
              "<matplotlib.axes._subplots.AxesSubplot at 0x7f79232c35d0>"
            ]
          },
          "metadata": {},
          "execution_count": 40
        },
        {
          "output_type": "display_data",
          "data": {
            "text/plain": [
              "<Figure size 432x288 with 1 Axes>"
            ],
            "image/png": "[encoded data removed]"
          },
          "metadata": {
            "needs_background": "light"
          }
        }
      ]
    },
    {
      "cell_type": "markdown",
      "source": [
        "**Let's visualize the relationship between Distance covered and respective trip duration.**"
      ],
      "metadata": {
        "id": "ojDnP3_HVzhB"
      }
    },
    {
      "cell_type": "code",
      "source": [
        "plt.scatter(df.trip_duration, df.distance , s=1, alpha=0.5)\n",
        "plt.ylabel('Distance')\n",
        "plt.xlabel('Trip Duration')\n",
        "plt.show()"
      ],
      "metadata": {
        "id": "Xzut2a6JVnET",
        "outputId": "f884320d-b526-4394-fed1-5a849f19ce8b",
        "colab": {
          "base_uri": "https://localhost:8080/",
          "height": 279
        }
      },
      "execution_count": 48,
      "outputs": [
        {
          "output_type": "display_data",
          "data": {
            "text/plain": [
              "<Figure size 432x288 with 1 Axes>"
            ],
            "image/png": "[encoded data removed]"
          },
          "metadata": {
            "needs_background": "light"
          }
        }
      ]
    },
    {
      "cell_type": "markdown",
      "source": [
        "** Correlation heatmap**"
      ],
      "metadata": {
        "id": "ld149V81V-Pn"
      }
    },
    {
      "cell_type": "code",
      "source": [
        "fig, ax = plt.subplots(figsize=(15,5))\n",
        "dataplot = sns.heatmap(df.corr(), cmap=\"YlGnBu\", annot=True, linewidths=.5)\n",
        "\n",
        "  #\n",
        "# displaying heatmap\n",
        "plt.show()"
      ],
      "metadata": {
        "id": "hAGLa0oLV8GM"
      },
      "execution_count": null,
      "outputs": []
    },
    {
      "cell_type": "markdown",
      "source": [
        "**Done with data treatment and analysis ,will proceed to split the data in train and testthen will apply supervised ML model**"
      ],
      "metadata": {
        "id": "xqPS-zXSEwj9"
      }
    },
    {
      "cell_type": "markdown",
      "source": [
        "#splitting data into train and test"
      ],
      "metadata": {
        "id": "NL7obz3SVE8G"
      }
    },
    {
      "cell_type": "code",
      "source": [
        "df.columns"
      ],
      "metadata": {
        "id": "sSg7lwOWN6_b",
        "outputId": "5a4224dd-b11b-4b50-85bf-7fd07d7d7d8b",
        "colab": {
          "base_uri": "https://localhost:8080/"
        }
      },
      "execution_count": 41,
      "outputs": [
        {
          "output_type": "execute_result",
          "data": {
            "text/plain": [
              "Index(['id', 'vendor_id', 'pickup_datetime', 'dropoff_datetime',\n",
              "       'passenger_count', 'pickup_longitude', 'pickup_latitude',\n",
              "       'dropoff_longitude', 'dropoff_latitude', 'store_and_fwd_flag',\n",
              "       'trip_duration', 'distance', 'pickup_day_no', 'dropoff_day_no',\n",
              "       'pickup_hour', 'dropoff_hour', 'pickup_month', 'dropoff_month'],\n",
              "      dtype='object')"
            ]
          },
          "metadata": {},
          "execution_count": 41
        }
      ]
    },
    {
      "cell_type": "markdown",
      "source": [
        "**We will create some dummy variable for categorical variable**"
      ],
      "metadata": {
        "id": "-lVApn8EUkEp"
      }
    },
    {
      "cell_type": "code",
      "source": [
        "x=df.drop(['trip_duration','id','pickup_datetime','dropoff_datetime'],axis=1)\n",
        "y=df['trip_duration']\n",
        "x=pd.get_dummies(x,'store_and_fwd_flag',drop_first=True)"
      ],
      "metadata": {
        "id": "003ietTg9tgF"
      },
      "execution_count": 44,
      "outputs": []
    },
    {
      "cell_type": "code",
      "source": [
        "df.store_and_fwd_flag.value_counts(normalize=True)"
      ],
      "metadata": {
        "colab": {
          "base_uri": "https://localhost:8080/"
        },
        "id": "by7-rzhyWRvp",
        "outputId": "43f02097-2be9-441e-8f6e-0821c58643f5"
      },
      "execution_count": 45,
      "outputs": [
        {
          "output_type": "execute_result",
          "data": {
            "text/plain": [
              "N    0.994504\n",
              "Y    0.005496\n",
              "Name: store_and_fwd_flag, dtype: float64"
            ]
          },
          "metadata": {},
          "execution_count": 45
        }
      ]
    },
    {
      "cell_type": "code",
      "source": [
        "# Normalising Predictors and creating new dataframe\n",
        "\n",
        "from sklearn.preprocessing import StandardScaler\n",
        "\n",
        "cols = x.columns\n",
        "\n",
        "ss = StandardScaler()\n",
        "\n",
        "x = ss.fit_transform(x)\n",
        "x = pd.DataFrame(x, columns=cols)\n",
        "x.head()\n",
        "y"
      ],
      "metadata": {
        "id": "uPwSXDhvRIKa",
        "outputId": "e0cc7405-eff6-4ef4-cb7b-aa3be0097643",
        "colab": {
          "base_uri": "https://localhost:8080/"
        }
      },
      "execution_count": 46,
      "outputs": [
        {
          "output_type": "execute_result",
          "data": {
            "text/plain": [
              "0           455\n",
              "1           663\n",
              "2          2124\n",
              "3           429\n",
              "4           435\n",
              "           ... \n",
              "1458639     778\n",
              "1458640     655\n",
              "1458641     764\n",
              "1458642     373\n",
              "1458643     198\n",
              "Name: trip_duration, Length: 1450106, dtype: int64"
            ]
          },
          "metadata": {},
          "execution_count": 46
        }
      ]
    },
    {
      "cell_type": "code",
      "source": [
        "x=pd.get_dummies(x,columns=['vendor_id', \n",
        "       'passenger_count',\n",
        "       'pickup_day_no', 'dropoff_day_no', 'pickup_hour', 'dropoff_hour',\n",
        "       'pickup_month', 'dropoff_month'],drop_first=True)"
      ],
      "metadata": {
        "id": "FwJfMpdURVSW"
      },
      "execution_count": 47,
      "outputs": []
    },
    {
      "cell_type": "code",
      "source": [
        "from sklearn.model_selection import train_test_split\n",
        "x_train,x_test,y_train,y_test=train_test_split(x,y,test_size=.2)\n"
      ],
      "metadata": {
        "id": "tCFO1Kk7WEMo"
      },
      "execution_count": 49,
      "outputs": []
    },
    {
      "cell_type": "markdown",
      "source": [
        "# Using Linear regression ML model"
      ],
      "metadata": {
        "id": "-MNCY6ZiXBd2"
      }
    },
    {
      "cell_type": "code",
      "source": [
        "reg = LinearRegression().fit(x_train, y_train)\n"
      ],
      "metadata": {
        "id": "KZXfv7WJWKSM"
      },
      "execution_count": 54,
      "outputs": []
    },
    {
      "cell_type": "code",
      "source": [
        "regressor.coef_"
      ],
      "metadata": {
        "id": "dmDc4qTWaTr3"
      },
      "execution_count": null,
      "outputs": []
    },
    {
      "cell_type": "code",
      "source": [
        "pred=reg.predict(x_train)"
      ],
      "metadata": {
        "id": "wXucNJVcWOyb"
      },
      "execution_count": 55,
      "outputs": []
    },
    {
      "cell_type": "code",
      "source": [
        "from sklearn.metrics import mean_absolute_percentage_error\n",
        "mean_absolute_percentage_error(pred,y_train)\n"
      ],
      "metadata": {
        "id": "yV5ehOzbXQez",
        "outputId": "e4319394-4b16-451e-95d7-40a3dcb2259b",
        "colab": {
          "base_uri": "https://localhost:8080/"
        }
      },
      "execution_count": 56,
      "outputs": [
        {
          "output_type": "execute_result",
          "data": {
            "text/plain": [
              "0.39876906242504545"
            ]
          },
          "metadata": {},
          "execution_count": 56
        }
      ]
    },
    {
      "cell_type": "markdown",
      "source": [
        "# Random Forest Regressor"
      ],
      "metadata": {
        "id": "kDgXGqBvXlYj"
      }
    },
    {
      "cell_type": "code",
      "source": [
        "# import random forest \n",
        "from sklearn.ensemble import RandomForestRegressor"
      ],
      "metadata": {
        "id": "HxCVODj3XWTQ"
      },
      "execution_count": 58,
      "outputs": []
    },
    {
      "cell_type": "code",
      "source": [
        "regr1 = RandomForestRegressor(max_features='sqrt',min_samples_leaf=4,min_samples_split=3,n_estimators=40, n_jobs=-1)\n",
        "regr1.fit(x_train, y_train)"
      ],
      "metadata": {
        "id": "Bz-1VXXIXce0",
        "outputId": "643b036f-6974-4f56-b114-ace1f202e553",
        "colab": {
          "base_uri": "https://localhost:8080/"
        }
      },
      "execution_count": 59,
      "outputs": [
        {
          "output_type": "execute_result",
          "data": {
            "text/plain": [
              "RandomForestRegressor(max_features='sqrt', min_samples_leaf=4,\n",
              "                      min_samples_split=3, n_estimators=40, n_jobs=-1)"
            ]
          },
          "metadata": {},
          "execution_count": 59
        }
      ]
    },
    {
      "cell_type": "code",
      "source": [
        "y_pred = regr1.predict(x_train)\n",
        "mean_absolute_percentage_error(y_pred, y_train)"
      ],
      "metadata": {
        "id": "aKIBYKZ_X2W3",
        "outputId": "8f0c2d4e-c81e-47c5-f667-e4dd48bacef7",
        "colab": {
          "base_uri": "https://localhost:8080/"
        }
      },
      "execution_count": 60,
      "outputs": [
        {
          "output_type": "execute_result",
          "data": {
            "text/plain": [
              "0.21453242452421864"
            ]
          },
          "metadata": {},
          "execution_count": 60
        }
      ]
    },
    {
      "cell_type": "code",
      "source": [
        ""
      ],
      "metadata": {
        "id": "NRj24WJbYr_G"
      },
      "execution_count": null,
      "outputs": []
    },
    {
      "cell_type": "markdown",
      "source": [
        "#XGboost ML model"
      ],
      "metadata": {
        "id": "vlT3G8IcYv5R"
      }
    },
    {
      "cell_type": "code",
      "source": [
        "import xgboost as xgb"
      ],
      "metadata": {
        "id": "VQwUByx9Y7bO"
      },
      "execution_count": 62,
      "outputs": []
    },
    {
      "cell_type": "code",
      "source": [
        "xgb_model = xgb.XGBRegressor(\n",
        " learning_rate =0.1,\n",
        " n_estimators=1000,\n",
        " max_depth=3,\n",
        "\n",
        " subsample=0.8,\n",
        " reg_alpha=200, reg_lambda=200,\n",
        " colsample_bytree=0.8,)\n",
        "xgb_model.fit(x_train, y_train)"
      ],
      "metadata": {
        "id": "UPdFbcSSZBWZ",
        "outputId": "06fd5ff4-0380-4aca-f34f-9296c07dd038",
        "colab": {
          "base_uri": "https://localhost:8080/"
        }
      },
      "execution_count": null,
      "outputs": [
        {
          "metadata": {
            "tags": null
          },
          "name": "stdout",
          "output_type": "stream",
          "text": [
            "[18:46:38] WARNING: /workspace/src/objective/regression_obj.cu:152: reg:linear is now deprecated in favor of reg:squarederror.\n"
          ]
        }
      ]
    },
    {
      "cell_type": "code",
      "source": [
        "y_pred_xgb=xgb_model.predict(x_train)\n",
        "mean_absolute_percentage_error(y_pred_xgb,y_train)"
      ],
      "metadata": {
        "id": "RuAJ28x8ZGeD"
      },
      "execution_count": null,
      "outputs": []
    }
  ],
  "metadata": {
    "colab": {
      "collapsed_sections": [],
      "name": "Copy of NYC Taxi Trip Time Prediction - Capstone Project.ipynb",
      "provenance": [],
      "include_colab_link": true
    },
    "kernelspec": {
      "display_name": "Python 3",
      "language": "python",
      "name": "python3"
    },
    "language_info": {
      "codemirror_mode": {
        "name": "ipython",
        "version": 3
      },
      "file_extension": ".py",
      "mimetype": "text/x-python",
      "name": "python",
      "nbconvert_exporter": "python",
      "pygments_lexer": "ipython3",
      "version": "3.6.6"
    }
  },
  "nbformat": 4,
  "nbformat_minor": 0
}